{
 "cells": [
  {
   "cell_type": "code",
   "execution_count": 2,
   "id": "734d5a9e-0663-4562-88ac-b74ae4d35812",
   "metadata": {},
   "outputs": [],
   "source": [
    "import pandas as pd\n",
    "import numpy as np"
   ]
  },
  {
   "cell_type": "code",
   "execution_count": 3,
   "id": "53bfe478-aa95-475c-ba49-5599ba2ca918",
   "metadata": {},
   "outputs": [],
   "source": [
    "def calc_mean(x):\n",
    "    return sum(x) / float(len(x))"
   ]
  },
  {
   "cell_type": "code",
   "execution_count": 4,
   "id": "ddcef3e0-975b-40a4-ad3d-8f4065eb2bba",
   "metadata": {},
   "outputs": [],
   "source": [
    "def calc_slope_intercept(x,y):\n",
    "    mean_x = calc_mean(x)\n",
    "    mean_y = calc_mean(y)\n",
    "    numerator = 0\n",
    "    denominator = 0\n",
    "    for i in range(len(x)):\n",
    "        numerator += (x[i] - mean_x) * (y[i] - mean_y)\n",
    "        denominator += (x[i] - mean_x) ** 2\n",
    "\n",
    "    m = numerator / denominator\n",
    "    c = mean_y - (m * mean_x)\n",
    "    return m,c"
   ]
  },
  {
   "cell_type": "code",
   "execution_count": 16,
   "id": "ee5d4e29-93e7-49f1-a78a-0d4643d5c7f7",
   "metadata": {},
   "outputs": [],
   "source": [
    "def predict(x,m,c):\n",
    "    pred = np.zeros(len(x))\n",
    "    for i in range(len(x)):\n",
    "         pred[i] = m * x[i] + c\n",
    "    return pred"
   ]
  },
  {
   "cell_type": "code",
   "execution_count": 6,
   "id": "5b52c911-4868-4077-bda1-7ae0ec056da5",
   "metadata": {},
   "outputs": [
    {
     "name": "stdout",
     "output_type": "stream",
     "text": [
      "   area  price\n",
      "0  2600  55000\n",
      "1  3000  56500\n",
      "2  3200  61000\n",
      "3  3600  68000\n",
      "4  4000  72000\n"
     ]
    }
   ],
   "source": [
    "df = pd.read_csv(\"House Price Prediction.csv\")\n",
    "print(df)"
   ]
  },
  {
   "cell_type": "code",
   "execution_count": 9,
   "id": "8930e653-f54c-4dc1-ad9c-8ba3a11ff863",
   "metadata": {},
   "outputs": [],
   "source": [
    "x = df.area\n",
    "y = df.price"
   ]
  },
  {
   "cell_type": "code",
   "execution_count": 11,
   "id": "36b08767-8834-4f0d-807b-9bcd45f44200",
   "metadata": {},
   "outputs": [],
   "source": [
    "m,c = calc_slope_intercept(x,y)"
   ]
  },
  {
   "cell_type": "code",
   "execution_count": 12,
   "id": "9d03abb0-8da6-4888-b613-62cba73eaa72",
   "metadata": {},
   "outputs": [
    {
     "name": "stdout",
     "output_type": "stream",
     "text": [
      "13.270547945205479\n",
      "18972.602739726026\n"
     ]
    }
   ],
   "source": [
    "print(m)\n",
    "print(c)"
   ]
  },
  {
   "cell_type": "code",
   "execution_count": 17,
   "id": "6103ca7a-c00b-4926-8487-b13d3d07d52d",
   "metadata": {},
   "outputs": [
    {
     "name": "stdout",
     "output_type": "stream",
     "text": [
      "[ 65419.52054795  93287.67123288 122482.87671233 137080.47945205\n",
      "  58784.24657534]\n"
     ]
    }
   ],
   "source": [
    "pred = predict([3500,5600,7800,8900,3000],m,c)\n",
    "print(pred)"
   ]
  }
 ],
 "metadata": {
  "kernelspec": {
   "display_name": "Python 3 (ipykernel)",
   "language": "python",
   "name": "python3"
  },
  "language_info": {
   "codemirror_mode": {
    "name": "ipython",
    "version": 3
   },
   "file_extension": ".py",
   "mimetype": "text/x-python",
   "name": "python",
   "nbconvert_exporter": "python",
   "pygments_lexer": "ipython3",
   "version": "3.12.7"
  }
 },
 "nbformat": 4,
 "nbformat_minor": 5
}
