{
 "cells": [
  {
   "cell_type": "code",
   "execution_count": 1,
   "id": "39a266b2-747c-4d7a-803b-cc38ba1db73d",
   "metadata": {},
   "outputs": [],
   "source": [
    "from pyspark.sql import SparkSession"
   ]
  },
  {
   "cell_type": "code",
   "execution_count": 2,
   "id": "2a846175-a157-4ace-9403-312aa01a6e69",
   "metadata": {},
   "outputs": [],
   "source": [
    "from pyspark.ml.regression import LinearRegression"
   ]
  },
  {
   "cell_type": "code",
   "execution_count": 3,
   "id": "93177adf-2011-482d-96ea-729dbf13744c",
   "metadata": {},
   "outputs": [],
   "source": [
    "from pyspark.ml.feature import VectorAssembler"
   ]
  },
  {
   "cell_type": "code",
   "execution_count": 4,
   "id": "07d8b77a-3db7-42cc-b753-d81bc85dc21a",
   "metadata": {},
   "outputs": [],
   "source": [
    "from pyspark.ml.linalg import Vectors"
   ]
  },
  {
   "cell_type": "code",
   "execution_count": 5,
   "id": "b081a9c2-f7b1-4095-bd86-7344ba9a9b06",
   "metadata": {},
   "outputs": [],
   "source": [
    "from pyspark.sql.types import IntegerType"
   ]
  },
  {
   "cell_type": "code",
   "execution_count": 6,
   "id": "651d6c5e-e79c-48af-a4d2-f3bb0a7f7d39",
   "metadata": {},
   "outputs": [],
   "source": [
    "from pyspark.ml.evaluation import RegressionEvaluator"
   ]
  },
  {
   "cell_type": "code",
   "execution_count": 7,
   "id": "526129b7-203d-4bb9-b85e-ff1b9db3fc43",
   "metadata": {},
   "outputs": [],
   "source": [
    "spark = SparkSession.builder.appName(\"Linear Regression\").getOrCreate()"
   ]
  },
  {
   "cell_type": "code",
   "execution_count": 8,
   "id": "25094ff6-7a83-4eb1-8051-6569a55f998e",
   "metadata": {},
   "outputs": [],
   "source": [
    "df = spark.read.csv('Home Price Prediction.csv',header = True,inferSchema = True)"
   ]
  },
  {
   "cell_type": "code",
   "execution_count": 9,
   "id": "3cdcdd21-c56a-45aa-abfa-f80301133471",
   "metadata": {},
   "outputs": [
    {
     "data": {
      "text/plain": [
       "DataFrame[area: int, bedroom: int, age: int, price: int]"
      ]
     },
     "execution_count": 9,
     "metadata": {},
     "output_type": "execute_result"
    }
   ],
   "source": [
    "df"
   ]
  },
  {
   "cell_type": "code",
   "execution_count": 10,
   "id": "dde0aa46-89e1-44f0-aa73-9cfb56a27881",
   "metadata": {},
   "outputs": [],
   "source": [
    "df = df.withColumn(\"price\",df['price'].cast(IntegerType()))"
   ]
  },
  {
   "cell_type": "code",
   "execution_count": 11,
   "id": "ef27de0d-d1d8-4160-94cc-1013c7334b0e",
   "metadata": {},
   "outputs": [],
   "source": [
    "assembler = VectorAssembler(inputCols = ['area','bedroom','age'],outputCol = 'features')"
   ]
  },
  {
   "cell_type": "code",
   "execution_count": 12,
   "id": "fd7bc591-c019-46ab-8748-96833a1365ae",
   "metadata": {},
   "outputs": [],
   "source": [
    "assembled = assembler.transform(df).select('features','price')"
   ]
  },
  {
   "cell_type": "code",
   "execution_count": 13,
   "id": "fc3ea46c-8b21-4bf5-8908-46cd735d3379",
   "metadata": {},
   "outputs": [],
   "source": [
    "train, test = assembled.randomSplit([0.8,0.2],seed = 42)"
   ]
  },
  {
   "cell_type": "code",
   "execution_count": 14,
   "id": "9ef7c195-543f-4e27-b872-42ff053e26b9",
   "metadata": {},
   "outputs": [],
   "source": [
    "lr = LinearRegression(featuresCol = 'features',labelCol = 'price')"
   ]
  },
  {
   "cell_type": "code",
   "execution_count": 15,
   "id": "821ae8e9-04c6-426a-8793-3d73ad61f09f",
   "metadata": {},
   "outputs": [],
   "source": [
    "model = lr.fit(train)"
   ]
  },
  {
   "cell_type": "code",
   "execution_count": 16,
   "id": "1e4fa701-314f-4071-bd8c-b5017e45074b",
   "metadata": {},
   "outputs": [],
   "source": [
    "pred = model.transform(test)"
   ]
  },
  {
   "cell_type": "code",
   "execution_count": 17,
   "id": "63749d87-38ee-4355-9605-e940ee8de562",
   "metadata": {},
   "outputs": [
    {
     "name": "stdout",
     "output_type": "stream",
     "text": [
      "+-----------------+------+-----------------+\n",
      "|         features| price|       prediction|\n",
      "+-----------------+------+-----------------+\n",
      "|[3000.0,4.0,15.0]|565000|603578.0895181594|\n",
      "|[4500.0,6.0,15.0]|800000|744943.2290567964|\n",
      "|[8000.0,6.0,45.0]|895000|925147.0770719941|\n",
      "+-----------------+------+-----------------+\n",
      "\n"
     ]
    }
   ],
   "source": [
    "pred.select('features','price','prediction').show()"
   ]
  },
  {
   "cell_type": "code",
   "execution_count": 18,
   "id": "f529dae0-65f5-4cd6-ae9b-f297fcd16ddb",
   "metadata": {},
   "outputs": [],
   "source": [
    "evaluator = RegressionEvaluator(labelCol = 'price',predictionCol = 'prediction',metricName = 'rmse')"
   ]
  },
  {
   "cell_type": "code",
   "execution_count": 19,
   "id": "c1b08367-f8f3-4866-b080-bbcb189c5602",
   "metadata": {},
   "outputs": [],
   "source": [
    "rmse = evaluator.evaluate(pred)"
   ]
  },
  {
   "cell_type": "code",
   "execution_count": 20,
   "id": "46b26a32-5b07-432d-83f2-6d1dfb606b0f",
   "metadata": {},
   "outputs": [
    {
     "data": {
      "text/plain": [
       "42537.68240649797"
      ]
     },
     "execution_count": 20,
     "metadata": {},
     "output_type": "execute_result"
    }
   ],
   "source": [
    "rmse"
   ]
  },
  {
   "cell_type": "code",
   "execution_count": 21,
   "id": "658c9a03-fa1f-4cb1-82d3-b9cea8dd3a30",
   "metadata": {},
   "outputs": [],
   "source": [
    "r2 = model.summary.r2"
   ]
  },
  {
   "cell_type": "code",
   "execution_count": 22,
   "id": "b16b744e-5cdd-484e-8045-add48820d651",
   "metadata": {},
   "outputs": [
    {
     "data": {
      "text/plain": [
       "0.9316675725045608"
      ]
     },
     "execution_count": 22,
     "metadata": {},
     "output_type": "execute_result"
    }
   ],
   "source": [
    "r2"
   ]
  },
  {
   "cell_type": "code",
   "execution_count": 23,
   "id": "56d62d9e-cc75-40d3-89fc-d3ee72b7a54b",
   "metadata": {},
   "outputs": [],
   "source": [
    "spark.stop()"
   ]
  }
 ],
 "metadata": {
  "kernelspec": {
   "display_name": "Python 3 (ipykernel)",
   "language": "python",
   "name": "python3"
  },
  "language_info": {
   "codemirror_mode": {
    "name": "ipython",
    "version": 3
   },
   "file_extension": ".py",
   "mimetype": "text/x-python",
   "name": "python",
   "nbconvert_exporter": "python",
   "pygments_lexer": "ipython3",
   "version": "3.12.7"
  }
 },
 "nbformat": 4,
 "nbformat_minor": 5
}
