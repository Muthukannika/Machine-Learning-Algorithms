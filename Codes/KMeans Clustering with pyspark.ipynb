{
 "cells": [
  {
   "cell_type": "code",
   "execution_count": 1,
   "id": "99329486-e46f-4c31-84e6-f5a07194ae91",
   "metadata": {},
   "outputs": [],
   "source": [
    "from pyspark.sql import SparkSession"
   ]
  },
  {
   "cell_type": "code",
   "execution_count": 2,
   "id": "bf4a10d8-9fa1-4425-8b78-70d8df5c3dbe",
   "metadata": {},
   "outputs": [],
   "source": [
    "spark = SparkSession.builder.appName(\"KMeans\").getOrCreate()"
   ]
  },
  {
   "cell_type": "code",
   "execution_count": 3,
   "id": "39f1169f-b2e6-4794-a1bc-c49f835931a5",
   "metadata": {},
   "outputs": [],
   "source": [
    "from pyspark.ml.feature import VectorAssembler"
   ]
  },
  {
   "cell_type": "code",
   "execution_count": 4,
   "id": "16f15209-98a5-4260-8caa-83941007fa30",
   "metadata": {},
   "outputs": [],
   "source": [
    "from pyspark.ml.clustering import KMeans"
   ]
  },
  {
   "cell_type": "code",
   "execution_count": 5,
   "id": "affaca1c-1e2a-4771-8ced-f4b4ef2f71e5",
   "metadata": {},
   "outputs": [],
   "source": [
    "df = spark.read.csv('income.csv',header = True,inferSchema = True)"
   ]
  },
  {
   "cell_type": "code",
   "execution_count": 6,
   "id": "716446bd-cec4-4e56-ba88-2e39bb56ea19",
   "metadata": {},
   "outputs": [
    {
     "data": {
      "text/plain": [
       "DataFrame[name: string, age: int, income: int]"
      ]
     },
     "execution_count": 6,
     "metadata": {},
     "output_type": "execute_result"
    }
   ],
   "source": [
    "df"
   ]
  },
  {
   "cell_type": "code",
   "execution_count": 10,
   "id": "29cda311-abc5-4ec6-b7fd-4bfa5e3dcba3",
   "metadata": {},
   "outputs": [],
   "source": [
    "assembler = VectorAssembler(inputCols = ['age','income'],outputCol = 'features')"
   ]
  },
  {
   "cell_type": "code",
   "execution_count": 11,
   "id": "ee98388a-fe45-46b3-9453-f8c37505879b",
   "metadata": {},
   "outputs": [],
   "source": [
    "assembled = assembler.transform(df)"
   ]
  },
  {
   "cell_type": "code",
   "execution_count": 12,
   "id": "083380ed-6626-4afa-a6d8-4f0030cdaf6d",
   "metadata": {},
   "outputs": [],
   "source": [
    "kmeans = KMeans(k = 3)"
   ]
  },
  {
   "cell_type": "code",
   "execution_count": 13,
   "id": "f7f037c2-2a6a-4115-a1ed-73f890b3ae97",
   "metadata": {},
   "outputs": [],
   "source": [
    "model = kmeans.fit(assembled.select('features'))"
   ]
  },
  {
   "cell_type": "code",
   "execution_count": 14,
   "id": "d08b5dcc-97a6-4e94-9ba1-c04a1783fbce",
   "metadata": {},
   "outputs": [],
   "source": [
    "pred = model.transform(assembled)"
   ]
  },
  {
   "cell_type": "code",
   "execution_count": 15,
   "id": "01c13f19-e06a-4ea9-8c5b-78befd85db98",
   "metadata": {},
   "outputs": [],
   "source": [
    "pred_labels = pred.select('prediction').collect()"
   ]
  },
  {
   "cell_type": "code",
   "execution_count": 16,
   "id": "595344a0-7ec9-48d2-b03f-e33ac668abcc",
   "metadata": {},
   "outputs": [],
   "source": [
    "centroids = model.clusterCenters()"
   ]
  },
  {
   "cell_type": "code",
   "execution_count": 20,
   "id": "a0acd9f1-a52f-40c9-8a44-1800820f1b87",
   "metadata": {},
   "outputs": [
    {
     "name": "stdout",
     "output_type": "stream",
     "text": [
      "centroid0 : [3.40e+01 8.05e+04]\n",
      "centroid1 : [3.82857143e+01 1.50000000e+05]\n",
      "centroid2 : [3.29090909e+01 5.61363636e+04]\n"
     ]
    }
   ],
   "source": [
    "for i,c in enumerate(centroids):\n",
    "    print(f\"centroid{i} : {c}\")"
   ]
  },
  {
   "cell_type": "code",
   "execution_count": 22,
   "id": "3795aadd-f80f-4b4b-a919-d91013499067",
   "metadata": {},
   "outputs": [],
   "source": [
    "from pyspark.ml.evaluation import ClusteringEvaluator"
   ]
  },
  {
   "cell_type": "code",
   "execution_count": 23,
   "id": "060d6edd-3456-45f2-aed7-bb5d9c13d21c",
   "metadata": {},
   "outputs": [],
   "source": [
    "e = ClusteringEvaluator()"
   ]
  },
  {
   "cell_type": "code",
   "execution_count": 24,
   "id": "2d58ef23-73a1-47f3-bf89-849b6d3f569f",
   "metadata": {},
   "outputs": [],
   "source": [
    "s = e.evaluate(pred)"
   ]
  },
  {
   "cell_type": "code",
   "execution_count": 25,
   "id": "a91d2503-0bfb-4c43-8248-5beb86714fd9",
   "metadata": {},
   "outputs": [
    {
     "name": "stdout",
     "output_type": "stream",
     "text": [
      "0.8250971758003017\n"
     ]
    }
   ],
   "source": [
    "print(s)"
   ]
  }
 ],
 "metadata": {
  "kernelspec": {
   "display_name": "Python 3 (ipykernel)",
   "language": "python",
   "name": "python3"
  },
  "language_info": {
   "codemirror_mode": {
    "name": "ipython",
    "version": 3
   },
   "file_extension": ".py",
   "mimetype": "text/x-python",
   "name": "python",
   "nbconvert_exporter": "python",
   "pygments_lexer": "ipython3",
   "version": "3.12.7"
  }
 },
 "nbformat": 4,
 "nbformat_minor": 5
}
