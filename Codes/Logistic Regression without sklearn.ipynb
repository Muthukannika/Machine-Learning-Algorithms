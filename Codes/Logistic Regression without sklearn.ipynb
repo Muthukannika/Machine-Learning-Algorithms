{
 "cells": [
  {
   "cell_type": "code",
   "execution_count": 1,
   "id": "7899361c-4936-4a64-b5d3-6d96b4f53237",
   "metadata": {},
   "outputs": [],
   "source": [
    "import numpy as np\n",
    "import pandas as pd"
   ]
  },
  {
   "cell_type": "code",
   "execution_count": 4,
   "id": "d9c329d6-80ea-49f9-bc25-4c129a6340c5",
   "metadata": {},
   "outputs": [],
   "source": [
    "def sigmoid(x):\n",
    "    return 1 / (1 + np.exp(-x))"
   ]
  },
  {
   "cell_type": "code",
   "execution_count": 5,
   "id": "75d6c062-218c-4c48-927c-ab2eb936e570",
   "metadata": {},
   "outputs": [],
   "source": [
    "class LogisticRegression:\n",
    "    def __init__(self,lr = 0.01,iter = 100):\n",
    "        self.lr = lr\n",
    "        self.iter = iter\n",
    "        self.weights = None\n",
    "        self.bias = None\n",
    "    def fit(self,x,y):\n",
    "        n_samples,n_features = x.shape\n",
    "        self.weights = np.zeros(n_features)\n",
    "        self.bias = 0\n",
    "        for i in range(self.iter):\n",
    "            lin_pred = np.dot(x,self.weights) + self.bias\n",
    "            pred = sigmoid(lin_pred)\n",
    "            dw = (1 / n_samples) * np.dot(x.T,(pred - y))\n",
    "            db = (1/ n_samples) * np.sum(pred - y)\n",
    "            self.weights = self.weights - self.lr * dw\n",
    "            self.bias = self.bias - self.lr * db\n",
    "    def predict(self,x):\n",
    "        lin_pred = np.dot(x,self.weights) + self.bias\n",
    "        y_pred = sigmoid(lin_pred)\n",
    "        class_pred = []\n",
    "        for pred in y_pred:\n",
    "            if pred <= 0.5:\n",
    "                class_pred.append(0)\n",
    "            else:\n",
    "                class_pred.append(1)\n",
    "        return class_pred"
   ]
  },
  {
   "cell_type": "code",
   "execution_count": null,
   "id": "f1ea1b5a-0a1b-472d-b135-4085924ebc7e",
   "metadata": {},
   "outputs": [],
   "source": []
  }
 ],
 "metadata": {
  "kernelspec": {
   "display_name": "Python 3 (ipykernel)",
   "language": "python",
   "name": "python3"
  },
  "language_info": {
   "codemirror_mode": {
    "name": "ipython",
    "version": 3
   },
   "file_extension": ".py",
   "mimetype": "text/x-python",
   "name": "python",
   "nbconvert_exporter": "python",
   "pygments_lexer": "ipython3",
   "version": "3.12.7"
  }
 },
 "nbformat": 4,
 "nbformat_minor": 5
}
