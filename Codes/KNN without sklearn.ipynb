{
 "cells": [
  {
   "cell_type": "code",
   "execution_count": 1,
   "id": "a09a17ad-f192-48a4-aee9-2b0df4a42173",
   "metadata": {},
   "outputs": [
    {
     "name": "stdout",
     "output_type": "stream",
     "text": [
      "Data types after encoding:\n",
      "company_n    int32\n",
      "job_n        int32\n",
      "degree_n     int32\n",
      "dtype: object\n",
      "Predictions: [1 1 1 0]\n",
      "Accuracy: 0.25\n"
     ]
    }
   ],
   "source": [
    "import numpy as np\n",
    "from collections import Counter\n",
    "import pandas as pd\n",
    "from sklearn.preprocessing import LabelEncoder\n",
    "from sklearn.model_selection import train_test_split\n",
    "\n",
    "class KNN:\n",
    "    def __init__(self, k=3):\n",
    "        self.k = k\n",
    "        self.X_train = None\n",
    "        self.y_train = None\n",
    "        \n",
    "    def fit(self, X_train, y_train):\n",
    "        self.X_train = X_train\n",
    "        self.y_train = y_train\n",
    "\n",
    "    def _euclidean_distance(self, a, b):\n",
    "        return np.sqrt(np.sum((a - b) ** 2))\n",
    "\n",
    "    def _predict_single(self, x_test):\n",
    "        distances = []\n",
    "        for x_train in self.X_train:\n",
    "            dist = self._euclidean_distance(x_train, x_test)\n",
    "            distances.append(dist)\n",
    "        distances = np.array(distances)\n",
    "\n",
    "        # Indices of the k nearest neighbors\n",
    "        knn_indices = distances.argsort()[:self.k]\n",
    "\n",
    "        # Labels of the k nearest neighbors\n",
    "        knn_labels = self.y_train[knn_indices]\n",
    "\n",
    "        # Majority vote\n",
    "        most_common = Counter(knn_labels).most_common(1)\n",
    "        return most_common[0][0]\n",
    "\n",
    "    def predict(self, X_test):\n",
    "        predictions = [self._predict_single(x) for x in X_test]\n",
    "        return np.array(predictions)\n",
    "\n",
    "df = pd.read_csv('Salaries.csv')\n",
    "\n",
    "input_data = df.drop('salary_more_than_100k', axis='columns')\n",
    "output_data = df['salary_more_than_100k']\n",
    "\n",
    "le_company = LabelEncoder()\n",
    "le_job = LabelEncoder()\n",
    "le_degree = LabelEncoder()\n",
    "\n",
    "input_data['company_n'] = le_company.fit_transform(input_data['company'])\n",
    "input_data['job_n'] = le_job.fit_transform(input_data['job'])\n",
    "input_data['degree_n'] = le_degree.fit_transform(input_data['degree'])\n",
    "\n",
    "input_data = input_data.drop(['company', 'job', 'degree'], axis='columns')\n",
    "\n",
    "print(\"Data types after encoding:\")\n",
    "print(input_data.dtypes)\n",
    "\n",
    "x_train, x_test, y_train, y_test = train_test_split(input_data, output_data, test_size=0.2, random_state=42)\n",
    "\n",
    "k = 3\n",
    "knn = KNN(k=k)\n",
    "knn.fit(x_train.to_numpy(), y_train.to_numpy())\n",
    "\n",
    "predictions = knn.predict(x_test.to_numpy())\n",
    "\n",
    "print(\"Predictions:\", predictions)\n",
    "\n",
    "accuracy = np.mean(predictions == y_test.to_numpy())\n",
    "print(\"Accuracy:\", accuracy)\n"
   ]
  }
 ],
 "metadata": {
  "kernelspec": {
   "display_name": "Python 3 (ipykernel)",
   "language": "python",
   "name": "python3"
  },
  "language_info": {
   "codemirror_mode": {
    "name": "ipython",
    "version": 3
   },
   "file_extension": ".py",
   "mimetype": "text/x-python",
   "name": "python",
   "nbconvert_exporter": "python",
   "pygments_lexer": "ipython3",
   "version": "3.12.7"
  }
 },
 "nbformat": 4,
 "nbformat_minor": 5
}
